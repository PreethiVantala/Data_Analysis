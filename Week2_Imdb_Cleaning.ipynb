{
 "cells": [
  {
   "cell_type": "code",
   "execution_count": null,
   "id": "2e103bc2-a28e-400e-859b-14b988e96527",
   "metadata": {},
   "outputs": [],
   "source": [
    "import pandas as pd\n",
    "\n",
    "# Load dataset\n",
    "df = pd.read_csv(\"IMDb.csv\")\n",
    "\n",
    "# Handle missing values\n",
    "df.fillna({'Revenue (Millions)': df['Revenue (Millions)'].median()}, inplace=True)\n",
    "\n",
    "# Create new features\n",
    "df['Decade'] = (df['Year'] // 10) * 10\n",
    "df['Revenue_per_Rating'] = df['Revenue (Millions)'] / df['Rating']\n",
    "\n",
    "# Save cleaned data\n",
    "df.to_csv(\"imdb_cleaned.csv\", index=False)\n",
    "\n",
    "print(\"Data Cleaning Done!\")\n"
   ]
  }
 ],
 "metadata": {
  "kernelspec": {
   "display_name": "Python 3 (ipykernel)",
   "language": "python",
   "name": "python3"
  },
  "language_info": {
   "codemirror_mode": {
    "name": "ipython",
    "version": 3
   },
   "file_extension": ".py",
   "mimetype": "text/x-python",
   "name": "python",
   "nbconvert_exporter": "python",
   "pygments_lexer": "ipython3",
   "version": "3.12.4"
  }
 },
 "nbformat": 4,
 "nbformat_minor": 5
}
